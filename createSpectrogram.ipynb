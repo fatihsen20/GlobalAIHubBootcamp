{
 "cells": [
  {
   "cell_type": "code",
   "execution_count": 1,
   "id": "2e016668-15f0-407d-9d2c-c2c9a2496f7c",
   "metadata": {},
   "outputs": [],
   "source": [
    "import pandas as pd\n",
    "import numpy as np\n",
    "import matplotlib.pyplot as plt\n",
    "import os\n",
    "from glob import glob\n",
    "import librosa\n",
    "import librosa.display"
   ]
  },
  {
   "cell_type": "code",
   "execution_count": 2,
   "id": "ccf69fe3-3980-4f9a-8ad4-e1ef4cf5bad9",
   "metadata": {},
   "outputs": [],
   "source": [
    "def create_spectrogram(filename):\n",
    "    audio, sr = librosa.load(filename)\n",
    "    D = librosa.stft(audio)\n",
    "    spectrogram = librosa.feature.melspectrogram(y=audio)\n",
    "    spectrogram_conv = librosa.amplitude_to_db(spectrogram, ref = np.max)\n",
    "    return spectrogram_conv"
   ]
  },
  {
   "cell_type": "code",
   "execution_count": 3,
   "id": "e547a879-2978-4a2d-bd82-ff41e2f99f8e",
   "metadata": {},
   "outputs": [],
   "source": [
    "def saveSpectrograms():\n",
    "    create_dir = \"spectrograms\"\n",
    "    main_path = os.getcwd()\n",
    "    main_path += \"\\\\UrbanSound8K\\\\audio\"\n",
    "    folders = os.listdir(main_path)[1:]\n",
    "    for i in folders:\n",
    "        files = os.listdir(main_path+\"\\\\\"+i)[1:]\n",
    "        for file in files:\n",
    "            splited1 = file.split(\"-\")\n",
    "            splited2 = file.split(\".\")\n",
    "            out = create_spectrogram(main_path+\"\\\\\"+i+\"\\\\\"+file)\n",
    "            plt.figure()\n",
    "            librosa.display.specshow(out)\n",
    "            plt.savefig(create_dir+\"/\"+splited1[1]+\"/\"+splited2[0]+\".png\")"
   ]
  },
  {
   "cell_type": "code",
   "execution_count": null,
   "id": "beac9a3e-e98e-4de2-8817-da9a65256993",
   "metadata": {},
   "outputs": [],
   "source": [
    "saveSpectrograms()"
   ]
  }
 ],
 "metadata": {
  "kernelspec": {
   "display_name": "Python 3 (ipykernel)",
   "language": "python",
   "name": "python3"
  },
  "language_info": {
   "codemirror_mode": {
    "name": "ipython",
    "version": 3
   },
   "file_extension": ".py",
   "mimetype": "text/x-python",
   "name": "python",
   "nbconvert_exporter": "python",
   "pygments_lexer": "ipython3",
   "version": "3.8.0"
  }
 },
 "nbformat": 4,
 "nbformat_minor": 5
}
